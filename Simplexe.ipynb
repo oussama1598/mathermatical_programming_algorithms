{
 "cells": [
  {
   "cell_type": "code",
   "execution_count": 1,
   "metadata": {},
   "outputs": [],
   "source": [
    "import copy\n",
    "\n",
    "program_matrix = [\n",
    "    [8, 10, 7, \"max\"],\n",
    "    [1, 3, 2, 10, \"<=\"],\n",
    "    [1, 5, 1, 8, \"<=\"]\n",
    "    #[2, 4, 5, 100, \"<=\"],\n",
    "]"
   ]
  },
  {
   "cell_type": "code",
   "execution_count": 2,
   "metadata": {},
   "outputs": [],
   "source": [
    "def is_sup_or_inf(line):\n",
    "    return 1 if line[-1] == \"<=\" else -1"
   ]
  },
  {
   "cell_type": "code",
   "execution_count": 3,
   "metadata": {},
   "outputs": [],
   "source": [
    "def is_positive_constants(pr_matrix):\n",
    "    for i in range(1, len(pr_matrix)):\n",
    "        if pr_matrix[i][-2] < 0:\n",
    "            return False\n",
    "        \n",
    "    return True"
   ]
  },
  {
   "cell_type": "code",
   "execution_count": 4,
   "metadata": {},
   "outputs": [],
   "source": [
    "def is_positive_ci(simplex_matrix):\n",
    "    for i in range(0, len(simplex_matrix[-1])):\n",
    "        if simplex_matrix[-1][i] < 0:\n",
    "            return False\n",
    "        \n",
    "    return True"
   ]
  },
  {
   "cell_type": "code",
   "execution_count": 15,
   "metadata": {},
   "outputs": [],
   "source": [
    "def build_identity_matrix(pr_matrix):\n",
    "    var_num = len(pr_matrix[-1]) - 2\n",
    "    matrix_identity, base = [], []\n",
    "    \n",
    "    for i in range(0, len(pr_matrix) - 1):\n",
    "        matrix_identity.append([])\n",
    "        base.append(var_num + i)\n",
    "\n",
    "        for j in range(0, len(pr_matrix) - 1):\n",
    "            matrix_identity[i].append(int(i == j))\n",
    "            \n",
    "    return matrix_identity, base"
   ]
  },
  {
   "cell_type": "code",
   "execution_count": 16,
   "metadata": {},
   "outputs": [],
   "source": [
    "def build_simplex_matrix(pr_matrix):\n",
    "    simplex_matrix = []\n",
    "    is_max_problem = pr_matrix[0][-1] == \"max\"\n",
    "\n",
    "    matrix_identity, base = build_identity_matrix(pr_matrix)\n",
    "    \n",
    "    for i in range(1, len(pr_matrix)):\n",
    "        simplex_matrix.append(\n",
    "            pr_matrix[i][:-2] \n",
    "            + (matrix_identity[i - 1] * is_sup_or_inf(pr_matrix[i]))\n",
    "            + [pr_matrix[i][-2]]\n",
    "        )\n",
    "     \n",
    "    simplex_matrix.append([])\n",
    "    \n",
    "    for i in range(0, len(pr_matrix[0]) + len(pr_matrix) - 1 - 1):\n",
    "        simplex_matrix[-1].append(\n",
    "            (pr_matrix[0][i] if i in range(0 , len(pr_matrix[0]) - 1) else 0) * \n",
    "            -1 if is_max_problem else 1 \n",
    "        )\n",
    "        \n",
    "    return simplex_matrix, base"
   ]
  },
  {
   "cell_type": "code",
   "execution_count": 17,
   "metadata": {},
   "outputs": [],
   "source": [
    "def get_min_in_last_row(fn_line):\n",
    "    most_min = min(fn_line)\n",
    "    \n",
    "    return fn_line.index(most_min)"
   ]
  },
  {
   "cell_type": "code",
   "execution_count": 18,
   "metadata": {},
   "outputs": [],
   "source": [
    "def get_min_ratio(simplex_matrix, j_min):\n",
    "    ratios = [\n",
    "        abs(simplex_matrix[i][-1] / simplex_matrix[i][j_min]) for i in range(0, len(simplex_matrix[:-1]))\n",
    "    ]\n",
    "    \n",
    "    min_ratio = min(ratios)\n",
    "    \n",
    "    return ratios.index(min_ratio)"
   ]
  },
  {
   "cell_type": "code",
   "execution_count": 19,
   "metadata": {},
   "outputs": [],
   "source": [
    "def divide_pivot_line_by_pivot(simplex_matrix, pivot_i, pivot_j):\n",
    "    pivot = simplex_matrix[pivot_i][pivot_j]\n",
    "    \n",
    "    simplex_matrix[pivot_i] = [(1 / pivot) * simplex_matrix[pivot_i][j] \n",
    "                               for j in range(len(simplex_matrix[pivot_i]))]"
   ]
  },
  {
   "cell_type": "code",
   "execution_count": 20,
   "metadata": {},
   "outputs": [],
   "source": [
    "def perform_operation_on_line_with_pivot_line(simplex_matrix, line_i, pivot_i, pivot_j):\n",
    "    line = simplex_matrix[line_i]\n",
    "    pivot_line = simplex_matrix[pivot_i]\n",
    "    \n",
    "    simplex_matrix[line_i] = [-line[pivot_j] * pivot_line[i] + line[i] for i in range(len(line))]"
   ]
  },
  {
   "cell_type": "code",
   "execution_count": 25,
   "metadata": {},
   "outputs": [],
   "source": [
    "def get_sols(pr_matrix, simplex_matrix, base):\n",
    "    var_num = len(pr_matrix[-1]) - 2\n",
    "    x = [0] * var_num\n",
    "    \n",
    "    for i in range(0, len(base)):\n",
    "        if base[i] < var_num:\n",
    "            x[base[i]] = simplex_matrix[i][-1]\n",
    "            \n",
    "    return x "
   ]
  },
  {
   "cell_type": "code",
   "execution_count": 34,
   "metadata": {},
   "outputs": [],
   "source": [
    "def simplex(pr_matrix):\n",
    "    pr_matrix_copy = copy.deepcopy(pr_matrix)\n",
    "    var_num = len(pr_matrix_copy[-1]) - 2 \n",
    "    \n",
    "    if not is_positive_constants(pr_matrix_copy):\n",
    "        return False\n",
    "\n",
    "    simplex_matrix, base = build_simplex_matrix(pr_matrix_copy)\n",
    "    \n",
    "    while(not is_positive_ci(simplex_matrix)):\n",
    "        pivot_j = get_min_in_last_row(simplex_matrix[-1])\n",
    "        pivot_i = get_min_ratio(simplex_matrix, pivot_j)\n",
    "        \n",
    "        base[pivot_i] = pivot_j\n",
    "\n",
    "        divide_pivot_line_by_pivot(simplex_matrix, pivot_i, pivot_j)\n",
    "\n",
    "        for i in range(0, len(simplex_matrix)):\n",
    "            if not i == pivot_i:\n",
    "                perform_operation_on_line_with_pivot_line(simplex_matrix, i, pivot_i, pivot_j)\n",
    "    \n",
    "    x = get_sols(pr_matrix_copy, simplex_matrix, base)\n",
    "    z = sum([x[i] * pr_matrix_copy[0][i] for i in range(0, len(pr_matrix_copy[0]) - 1)])\n",
    "    \n",
    "    return z, x"
   ]
  },
  {
   "cell_type": "code",
   "execution_count": 35,
   "metadata": {},
   "outputs": [
    {
     "name": "stdout",
     "output_type": "stream",
     "text": [
      "(64.0, [8.0, 0, 0])\n"
     ]
    }
   ],
   "source": [
    "print(simplex(program_matrix))"
   ]
  },
  {
   "cell_type": "code",
   "execution_count": 38,
   "metadata": {},
   "outputs": [],
   "source": [
    "import scipy\n",
    "from scipy import optimize"
   ]
  },
  {
   "cell_type": "code",
   "execution_count": 44,
   "metadata": {},
   "outputs": [
    {
     "name": "stdout",
     "output_type": "stream",
     "text": [
      "     con: array([], dtype=float64)\n",
      "     fun: -64.0\n",
      " message: 'Optimization terminated successfully.'\n",
      "     nit: 4\n",
      "   slack: array([2., 0.])\n",
      "  status: 0\n",
      " success: True\n",
      "       x: array([8., 0., 0.])\n"
     ]
    }
   ],
   "source": [
    "c = [-8, -10, -7]\n",
    "A = [[1, 3, 2], [1, 5, 1]]\n",
    "b = [10, 8]\n",
    "\n",
    "x0_bounds = (0, None)\n",
    "x1_bounds = (0, None)\n",
    "x2_bounds = (0, None)\n",
    "\n",
    "res = scipy.optimize.linprog(c, A_ub=A, b_ub=b, bounds=(x0_bounds, x1_bounds, x2_bounds), options={\"disp\": False})\n",
    "\n",
    "print(res)"
   ]
  },
  {
   "cell_type": "code",
   "execution_count": null,
   "metadata": {},
   "outputs": [],
   "source": []
  },
  {
   "cell_type": "code",
   "execution_count": null,
   "metadata": {},
   "outputs": [],
   "source": []
  }
 ],
 "metadata": {
  "kernelspec": {
   "display_name": "Python 3",
   "language": "python",
   "name": "python3"
  },
  "language_info": {
   "codemirror_mode": {
    "name": "ipython",
    "version": 3
   },
   "file_extension": ".py",
   "mimetype": "text/x-python",
   "name": "python",
   "nbconvert_exporter": "python",
   "pygments_lexer": "ipython3",
   "version": "3.7.5"
  }
 },
 "nbformat": 4,
 "nbformat_minor": 2
}
