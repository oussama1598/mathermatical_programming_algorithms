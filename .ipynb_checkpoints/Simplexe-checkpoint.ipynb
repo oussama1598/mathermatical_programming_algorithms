{
 "cells": [
  {
   "cell_type": "code",
   "execution_count": 1,
   "metadata": {},
   "outputs": [],
   "source": [
    "import copy\n",
    "\n",
    "program_matrix = [\n",
    "    [5, 10, 8, \"max\"],\n",
    "    [3, 5, 2, 60, \"<=\"],\n",
    "    [4, 4, 4, 72, \"<=\"],\n",
    "    [2, 4, 5, 100, \"<=\"],\n",
    "]"
   ]
  },
  {
   "cell_type": "code",
   "execution_count": 2,
   "metadata": {},
   "outputs": [],
   "source": [
    "def is_sup_or_inf(line):\n",
    "    return 1 if line[-1] == \"<=\" else -1"
   ]
  },
  {
   "cell_type": "code",
   "execution_count": 3,
   "metadata": {},
   "outputs": [],
   "source": [
    "def is_positive_constants(pr_matrix):\n",
    "    for i in range(1, len(pr_matrix)):\n",
    "        if pr_matrix[i][-2] < 0:\n",
    "            return False\n",
    "        \n",
    "    return True"
   ]
  },
  {
   "cell_type": "code",
   "execution_count": 4,
   "metadata": {},
   "outputs": [],
   "source": [
    "def build_identity_matrix(pr_matrix):\n",
    "    matrix_identity = []\n",
    "    \n",
    "    for i in range(0, len(pr_matrix) - 1):\n",
    "        matrix_identity.append([])\n",
    "\n",
    "        for j in range(0, len(pr_matrix) - 1):\n",
    "            matrix_identity[i].append(int(i == j))\n",
    "            \n",
    "    return matrix_identity"
   ]
  },
  {
   "cell_type": "code",
   "execution_count": 5,
   "metadata": {},
   "outputs": [],
   "source": [
    "def build_simplex_matrix(pr_matrix):\n",
    "    simplex_matrix = []\n",
    "    is_max_problem = pr_matrix[0][-1] == \"max\"\n",
    "\n",
    "    matrix_identity = build_identity_matrix(pr_matrix)\n",
    "    \n",
    "    for i in range(1, len(pr_matrix)):\n",
    "        simplex_matrix.append(\n",
    "            pr_matrix[i][:-2] \n",
    "            + (matrix_identity[i - 1] * is_sup_or_inf(pr_matrix[i]))\n",
    "            + [pr_matrix[i][-2]]\n",
    "        )\n",
    "     \n",
    "    simplex_matrix.append([])\n",
    "    \n",
    "    for i in range(0, len(pr_matrix[0]) + len(pr_matrix) - 1 - 1):\n",
    "        simplex_matrix[-1].append(\n",
    "            (pr_matrix[0][i] if i in range(0 , len(pr_matrix[0]) - 1) else 0) * \n",
    "            -1 if is_max_problem else 1 \n",
    "        )\n",
    "        \n",
    "    return simplex_matrix"
   ]
  },
  {
   "cell_type": "code",
   "execution_count": 16,
   "metadata": {},
   "outputs": [],
   "source": [
    "def get_min_in_last_row(fn_line):\n",
    "    most_min = min(fn_line)\n",
    "    \n",
    "    return fn_line.index(most_min)"
   ]
  },
  {
   "cell_type": "code",
   "execution_count": null,
   "metadata": {},
   "outputs": [],
   "source": [
    "def get_min_ratio(simplex_matrix, i_min):\n",
    "    min_ratio = min([\n",
    "        abs(\n",
    "            simplex_matrix[i][-1] / simplex_matrix[i][i_min] for i in range(simplex_matrix[:-1])\n",
    "        )\n",
    "    ])\n",
    "    \n",
    "    return min_ratio"
   ]
  },
  {
   "cell_type": "code",
   "execution_count": 17,
   "metadata": {},
   "outputs": [],
   "source": [
    "def simplex(pr_matrix):\n",
    "    pr_matrix_copy = copy.deepcopy(pr_matrix)\n",
    "    \n",
    "    if not is_positive_constants(pr_matrix_copy):\n",
    "        return False\n",
    "\n",
    "    simplex_matrix = build_simplex_matrix(pr_matrix_copy)\n",
    "    \n",
    "    i = get_min_in_last_row(simplex_matrix[-1])\n",
    "    \n",
    "    return min_ratio(simplex_matrix)"
   ]
  },
  {
   "cell_type": "code",
   "execution_count": 15,
   "metadata": {},
   "outputs": [
    {
     "ename": "TypeError",
     "evalue": "'int' object is not iterable",
     "output_type": "error",
     "traceback": [
      "\u001b[0;31m---------------------------------------------------------------------------\u001b[0m",
      "\u001b[0;31mTypeError\u001b[0m                                 Traceback (most recent call last)",
      "\u001b[0;32m<ipython-input-15-d7a91cdc5260>\u001b[0m in \u001b[0;36m<module>\u001b[0;34m\u001b[0m\n\u001b[0;32m----> 1\u001b[0;31m \u001b[0mprint\u001b[0m\u001b[0;34m(\u001b[0m\u001b[0msimplex\u001b[0m\u001b[0;34m(\u001b[0m\u001b[0mprogram_matrix\u001b[0m\u001b[0;34m)\u001b[0m\u001b[0;34m)\u001b[0m\u001b[0;34m\u001b[0m\u001b[0;34m\u001b[0m\u001b[0m\n\u001b[0m",
      "\u001b[0;32m<ipython-input-14-fb36fa2ef8ea>\u001b[0m in \u001b[0;36msimplex\u001b[0;34m(pr_matrix)\u001b[0m\n\u001b[1;32m      7\u001b[0m     \u001b[0msimplex_matrix\u001b[0m \u001b[0;34m=\u001b[0m \u001b[0mbuild_simplex_matrix\u001b[0m\u001b[0;34m(\u001b[0m\u001b[0mpr_matrix_copy\u001b[0m\u001b[0;34m)\u001b[0m\u001b[0;34m\u001b[0m\u001b[0;34m\u001b[0m\u001b[0m\n\u001b[1;32m      8\u001b[0m \u001b[0;34m\u001b[0m\u001b[0m\n\u001b[0;32m----> 9\u001b[0;31m     \u001b[0;32mreturn\u001b[0m \u001b[0mget_min_in_last_row\u001b[0m\u001b[0;34m(\u001b[0m\u001b[0msimplex_matrix\u001b[0m\u001b[0;34m[\u001b[0m\u001b[0;34m-\u001b[0m\u001b[0;36m1\u001b[0m\u001b[0;34m]\u001b[0m\u001b[0;34m)\u001b[0m\u001b[0;34m\u001b[0m\u001b[0;34m\u001b[0m\u001b[0m\n\u001b[0m",
      "\u001b[0;32m<ipython-input-9-ac969692c31b>\u001b[0m in \u001b[0;36mget_min_in_last_row\u001b[0;34m(simplex_matrix)\u001b[0m\n\u001b[1;32m      1\u001b[0m \u001b[0;32mdef\u001b[0m \u001b[0mget_min_in_last_row\u001b[0m\u001b[0;34m(\u001b[0m\u001b[0msimplex_matrix\u001b[0m\u001b[0;34m)\u001b[0m\u001b[0;34m:\u001b[0m\u001b[0;34m\u001b[0m\u001b[0;34m\u001b[0m\u001b[0m\n\u001b[0;32m----> 2\u001b[0;31m     \u001b[0mmost_min\u001b[0m \u001b[0;34m=\u001b[0m \u001b[0mmin\u001b[0m\u001b[0;34m(\u001b[0m\u001b[0msimplex_matrix\u001b[0m\u001b[0;34m[\u001b[0m\u001b[0;34m-\u001b[0m\u001b[0;36m1\u001b[0m\u001b[0;34m]\u001b[0m\u001b[0;34m)\u001b[0m\u001b[0;34m\u001b[0m\u001b[0;34m\u001b[0m\u001b[0m\n\u001b[0m\u001b[1;32m      3\u001b[0m \u001b[0;34m\u001b[0m\u001b[0m\n\u001b[1;32m      4\u001b[0m     \u001b[0mprint\u001b[0m\u001b[0;34m(\u001b[0m\u001b[0mmost_min\u001b[0m\u001b[0;34m)\u001b[0m\u001b[0;34m\u001b[0m\u001b[0;34m\u001b[0m\u001b[0m\n\u001b[1;32m      5\u001b[0m \u001b[0;34m\u001b[0m\u001b[0m\n",
      "\u001b[0;31mTypeError\u001b[0m: 'int' object is not iterable"
     ]
    }
   ],
   "source": [
    "print(simplex(program_matrix))"
   ]
  },
  {
   "cell_type": "code",
   "execution_count": null,
   "metadata": {},
   "outputs": [],
   "source": []
  },
  {
   "cell_type": "code",
   "execution_count": null,
   "metadata": {},
   "outputs": [],
   "source": []
  }
 ],
 "metadata": {
  "kernelspec": {
   "display_name": "Python 3",
   "language": "python",
   "name": "python3"
  },
  "language_info": {
   "codemirror_mode": {
    "name": "ipython",
    "version": 3
   },
   "file_extension": ".py",
   "mimetype": "text/x-python",
   "name": "python",
   "nbconvert_exporter": "python",
   "pygments_lexer": "ipython3",
   "version": "3.7.5"
  }
 },
 "nbformat": 4,
 "nbformat_minor": 2
}
