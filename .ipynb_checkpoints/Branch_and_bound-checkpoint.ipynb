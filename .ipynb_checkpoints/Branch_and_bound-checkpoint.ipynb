{
 "cells": [
  {
   "cell_type": "code",
   "execution_count": 1,
   "metadata": {},
   "outputs": [],
   "source": [
    "import copy\n",
    "import scipy\n",
    "from scipy import optimize"
   ]
  },
  {
   "cell_type": "code",
   "execution_count": 2,
   "metadata": {},
   "outputs": [],
   "source": [
    "def simplex(A, b, c, bounds):\n",
    "    bounds_tuple = tuple([tuple(l) for l in bounds])\n",
    "    \n",
    "    return scipy.optimize.linprog(c, A_ub=A, b_ub=b, bounds=bounds_tuple)"
   ]
  },
  {
   "cell_type": "code",
   "execution_count": 46,
   "metadata": {},
   "outputs": [],
   "source": [
    "def branch_and_bound(a, b, c, bounds):\n",
    "    branchs = [bounds]\n",
    "    num = 0\n",
    "    \n",
    "    while (branchs != []):\n",
    "        curr_bounds = branchs.pop(0)\n",
    "        \n",
    "        res = simplex(a, b, c, curr_bounds)\n",
    "        z = res.fun\n",
    "        x = res.x\n",
    "\n",
    "        for i in range(len(x)):\n",
    "            if x[i] != int(x[i]):\n",
    "                print(num, x,x[i], i + 1, x[i] != int(x[i]), curr_bounds)\n",
    "                \n",
    "                new_bounds_inf = copy.deepcopy(bounds)\n",
    "                new_bounds_inf[i] = [None, int(x[i])]\n",
    "                \n",
    "                new_bounds_sup = copy.deepcopy(bounds)\n",
    "                new_bounds_sup[i] = [int(x[i]) + 1, None]\n",
    "                \n",
    "                print(new_bounds_inf, new_bounds_sup)\n",
    "\n",
    "                branchs.append(new_bounds_inf)\n",
    "                branchs.append(new_bounds_sup)\n",
    "                \n",
    "        num += 1\n",
    "        \n",
    "        if num == 7:\n",
    "            print(len(branchs))\n",
    "            break"
   ]
  },
  {
   "cell_type": "code",
   "execution_count": 47,
   "metadata": {},
   "outputs": [
    {
     "name": "stdout",
     "output_type": "stream",
     "text": [
      "0 [0.75 1.  ] 0.75 1 True [[0, None], [0, None]]\n",
      "[[None, 0], [0, None]] [[1, None], [0, None]]\n",
      "1 [0.  0.5] 0.5 2 True [[None, 0], [0, None]]\n",
      "[[0, None], [None, 0]] [[0, None], [1, None]]\n",
      "4 [0.75 1.  ] 0.75 1 True [[0, None], [1, None]]\n",
      "[[None, 0], [0, None]] [[1, None], [0, None]]\n",
      "5 [0.  0.5] 0.5 2 True [[None, 0], [0, None]]\n",
      "[[0, None], [None, 0]] [[0, None], [1, None]]\n",
      "2\n"
     ]
    }
   ],
   "source": [
    "c = [1, -2]\n",
    "a = [[-4, 6], [4, 1]]\n",
    "b = [3, 4]\n",
    "\n",
    "branch_and_bound(a, b, c, [[0, None], [0, None]])"
   ]
  },
  {
   "cell_type": "code",
   "execution_count": 13,
   "metadata": {},
   "outputs": [
    {
     "data": {
      "text/plain": [
       "([1, 2], [4, 3])"
      ]
     },
     "execution_count": 13,
     "metadata": {},
     "output_type": "execute_result"
    }
   ],
   "source": [
    "tuple([[1, 2], [4, 3]])"
   ]
  },
  {
   "cell_type": "code",
   "execution_count": null,
   "metadata": {},
   "outputs": [],
   "source": []
  }
 ],
 "metadata": {
  "kernelspec": {
   "display_name": "Python 3",
   "language": "python",
   "name": "python3"
  },
  "language_info": {
   "codemirror_mode": {
    "name": "ipython",
    "version": 3
   },
   "file_extension": ".py",
   "mimetype": "text/x-python",
   "name": "python",
   "nbconvert_exporter": "python",
   "pygments_lexer": "ipython3",
   "version": "3.7.5"
  }
 },
 "nbformat": 4,
 "nbformat_minor": 2
}
