{
 "cells": [
  {
   "cell_type": "code",
   "execution_count": 3,
   "metadata": {},
   "outputs": [],
   "source": [
    "import copy\n",
    "import scipy\n",
    "from scipy import optimize"
   ]
  },
  {
   "cell_type": "code",
   "execution_count": 79,
   "metadata": {},
   "outputs": [],
   "source": [
    "def simplex(A, b, c):\n",
    "    return scipy.optimize.linprog(c, A_ub=A, b_ub=b)"
   ]
  },
  {
   "cell_type": "code",
   "execution_count": 94,
   "metadata": {},
   "outputs": [],
   "source": [
    "def branch_and_bound(a, b, c):\n",
    "    programs = [[c, a, b]]\n",
    "    sols = []\n",
    "    num = 0\n",
    "    \n",
    "    while (programs != []):\n",
    "        curr_program = programs.pop(0)\n",
    "        curr_c, curr_a, curr_b = curr_program\n",
    "        \n",
    "        res = simplex(\n",
    "            curr_a, \n",
    "            curr_b, \n",
    "            curr_c\n",
    "        )\n",
    "        z = res.fun\n",
    "        x = res.x\n",
    "        \n",
    "        if res.status == 2: continue\n",
    "            \n",
    "        non_int_sols = []\n",
    "        \n",
    "        for i in range(len(x)):\n",
    "            if x[i] != int(x[i]):\n",
    "                non_int_sols.append(x[i])\n",
    "                \n",
    "        if len(non_int_sols) == 0:\n",
    "            sols.append([x, z])\n",
    "            continue\n",
    "        \n",
    "        max_non_int_sol_index = list(x).index(max(non_int_sols))\n",
    "        \n",
    "        new_constraint = [0] * len(x)\n",
    "                \n",
    "        new_constraint[max_non_int_sol_index] = 1\n",
    "                \n",
    "        programs.append([\n",
    "            curr_c,\n",
    "            curr_a + [copy.deepcopy(new_constraint)],\n",
    "            curr_b + [int(x[max_non_int_sol_index])],\n",
    "        ])\n",
    "                \n",
    "        new_constraint[max_non_int_sol_index] = -1\n",
    "                \n",
    "        programs.append([\n",
    "            curr_c,\n",
    "            curr_a + [copy.deepcopy(new_constraint)],\n",
    "            curr_b + [-(int(x[max_non_int_sol_index]) + 1)],\n",
    "        ])\n",
    "                \n",
    "    return sols"
   ]
  },
  {
   "cell_type": "code",
   "execution_count": 95,
   "metadata": {},
   "outputs": [
    {
     "name": "stdout",
     "output_type": "stream",
     "text": [
      "[[array([1., 0.]), 1.0], [array([0., 0.]), 0.0]]\n"
     ]
    }
   ],
   "source": [
    "c = [1, -2]\n",
    "a = [[-4, 6], [4, 1]]\n",
    "b = [3, 4]\n",
    "\n",
    "print(branch_and_bound(a, b, c))"
   ]
  },
  {
   "cell_type": "code",
   "execution_count": 91,
   "metadata": {},
   "outputs": [
    {
     "data": {
      "text/plain": [
       "     con: array([], dtype=float64)\n",
       "     fun: -1.0\n",
       " message: 'Optimization terminated successfully.'\n",
       "     nit: 2\n",
       "   slack: array([0. , 3.5, 0. ])\n",
       "  status: 0\n",
       " success: True\n",
       "       x: array([0. , 0.5])"
      ]
     },
     "execution_count": 91,
     "metadata": {},
     "output_type": "execute_result"
    }
   ],
   "source": [
    "simplex([[-4, 6], [4, 1], [1, 0]], [3, 4, 0], [1, -2])"
   ]
  },
  {
   "cell_type": "code",
   "execution_count": null,
   "metadata": {},
   "outputs": [],
   "source": []
  }
 ],
 "metadata": {
  "kernelspec": {
   "display_name": "Python 3",
   "language": "python",
   "name": "python3"
  },
  "language_info": {
   "codemirror_mode": {
    "name": "ipython",
    "version": 3
   },
   "file_extension": ".py",
   "mimetype": "text/x-python",
   "name": "python",
   "nbconvert_exporter": "python",
   "pygments_lexer": "ipython3",
   "version": "3.7.5"
  }
 },
 "nbformat": 4,
 "nbformat_minor": 2
}
