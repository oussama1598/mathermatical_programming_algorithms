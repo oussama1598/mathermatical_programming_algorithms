{
 "cells": [
  {
   "cell_type": "code",
   "execution_count": 1,
   "metadata": {},
   "outputs": [],
   "source": [
    "import copy\n",
    "import scipy\n",
    "from scipy import optimize"
   ]
  },
  {
   "cell_type": "code",
   "execution_count": 2,
   "metadata": {},
   "outputs": [],
   "source": [
    "def simplex(A, b, c, bounds):\n",
    "    bounds_tuple = tuple([tuple(l) for l in bounds])\n",
    "    \n",
    "    return scipy.optimize.linprog(c, A_ub=A, b_ub=b, bounds=bounds_tuple)"
   ]
  },
  {
   "cell_type": "code",
   "execution_count": 60,
   "metadata": {},
   "outputs": [],
   "source": [
    "def branch_and_bound(a, b, c, bounds):\n",
    "    branchs = [bounds]\n",
    "    num = 0\n",
    "    \n",
    "    while (branchs != []):\n",
    "        curr_bounds = branchs.pop(0)\n",
    "        \n",
    "        res = simplex(a, b, c, curr_bounds)\n",
    "        z = res.fun\n",
    "        x = res.x\n",
    "        \n",
    "        print(x, curr_bounds, res.status)\n",
    "\n",
    "        for i in range(len(x)):\n",
    "            if x[i] != int(x[i]):\n",
    "                new_bounds_inf = copy.deepcopy(bounds)\n",
    "                new_bounds_inf[i] = [None, int(x[i])]\n",
    "                \n",
    "                new_bounds_sup = copy.deepcopy(bounds)\n",
    "                new_bounds_sup[i] = [int(x[i]) + 1, None]\n",
    "\n",
    "                branchs.append(new_bounds_inf)\n",
    "                branchs.append(new_bounds_sup)\n",
    "                \n",
    "        num += 1\n",
    "        \n",
    "        if num == 7:\n",
    "            print(len(branchs))\n",
    "            break"
   ]
  },
  {
   "cell_type": "code",
   "execution_count": 61,
   "metadata": {},
   "outputs": [
    {
     "name": "stdout",
     "output_type": "stream",
     "text": [
      "[0.75 1.  ] [[0, None], [0, None]] 0\n",
      "[0.  0.5] [[None, 0], [0, None]] 0\n",
      "[1. 0.] [[1, None], [0, None]] 0\n",
      "[0. 0.] [[0, None], [None, 0]] 0\n",
      "[0.75 1.  ] [[0, None], [1, None]] 0\n",
      "[0.  0.5] [[None, 0], [0, None]] 0\n",
      "[1. 0.] [[1, None], [0, None]] 0\n",
      "2\n"
     ]
    }
   ],
   "source": [
    "c = [1, -2]\n",
    "a = [[-4, 6], [4, 1]]\n",
    "b = [3, 4]\n",
    "\n",
    "branch_and_bound(a, b, c, [[0, None], [0, None]])"
   ]
  },
  {
   "cell_type": "code",
   "execution_count": 62,
   "metadata": {},
   "outputs": [
    {
     "data": {
      "text/plain": [
       "     con: array([], dtype=float64)\n",
       "     fun: -1.25\n",
       " message: 'Optimization terminated successfully.'\n",
       "     nit: 2\n",
       "   slack: array([0., 0.])\n",
       "  status: 0\n",
       " success: True\n",
       "       x: array([0.75, 1.  ])"
      ]
     },
     "execution_count": 62,
     "metadata": {},
     "output_type": "execute_result"
    }
   ],
   "source": [
    "simplex(a, b, c, [[0, None], [1, None]])"
   ]
  },
  {
   "cell_type": "code",
   "execution_count": null,
   "metadata": {},
   "outputs": [],
   "source": []
  }
 ],
 "metadata": {
  "kernelspec": {
   "display_name": "Python 3",
   "language": "python",
   "name": "python3"
  },
  "language_info": {
   "codemirror_mode": {
    "name": "ipython",
    "version": 3
   },
   "file_extension": ".py",
   "mimetype": "text/x-python",
   "name": "python",
   "nbconvert_exporter": "python",
   "pygments_lexer": "ipython3",
   "version": "3.7.5"
  }
 },
 "nbformat": 4,
 "nbformat_minor": 2
}
